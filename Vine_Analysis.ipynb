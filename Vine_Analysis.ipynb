{
 "cells": [
  {
   "cell_type": "code",
   "execution_count": null,
   "id": "5ae35735",
   "metadata": {},
   "outputs": [],
   "source": [
    "import os\n",
    "# Find the latest version of spark 3.0 from http://www.apache.org/dist/spark/ and enter as the spark version\n",
    "# For example:\n",
    "# spark_version = 'spark-3.0.3'\n",
    "spark_version = 'spark-3.1.3'\n",
    "os.environ['SPARK_VERSION']=spark_version\n",
    "\n",
    "# Install Spark and Java\n",
    "!apt-get update\n",
    "!apt-get install openjdk-11-jdk-headless -qq > /dev/null\n",
    "!wget -q http://www.apache.org/dist/spark/\n",
    "SPARK_VERSION-bin-hadoop2.7.tgz\n",
    "!tar xf $SPARK_VERSION-bin-hadoop2.7.tgz\n",
    "!pip install -q findspark\n",
    "\n",
    "# Set Environment Variables\n",
    "import os\n",
    "os.environ[\"JAVA_HOME\"] = \"/usr/lib/jvm/java-11-openjdk-amd64\"\n",
    "os.environ[\"SPARK_HOME\"] = f\"/content/{spark_version}-bin-hadoop2.7\"\n",
    "\n",
    "# Start a SparkSession\n",
    "import findspark\n",
    "findspark.init()\n",
    "     "
   ]
  },
  {
   "cell_type": "code",
   "execution_count": null,
   "id": "3e752fd9",
   "metadata": {},
   "outputs": [],
   "source": [
    "# download a Postgres driver that will allow Spark to interact with Postgres\n",
    "!wget https://jdbc.postgresql.org/download/postgresql-42.2.17.jar"
   ]
  },
  {
   "cell_type": "code",
   "execution_count": null,
   "id": "28175ce6",
   "metadata": {},
   "outputs": [],
   "source": [
    "# start a Spark session\n",
    "from pyspark.sql import SparkSession\n",
    "spark = SparkSession.builder.appName(\"VineReview\").config(\"spark.driver.extraClassPath\",\"/content/postgresql-42.2.17.jar\").getOrCreate()"
   ]
  },
  {
   "cell_type": "code",
   "execution_count": null,
   "id": "6f16bcf0",
   "metadata": {},
   "outputs": [],
   "source": [
    "from pyspark import SparkFiles\n",
    "url = \"https://s3.amazonaws.com/amazon-reviews-pds/tsv/amazon_reviews_us_Shoes_v1_00.tsv.gz\"\n",
    "spark.sparkContext.addFile(url)\n",
    "df = spark.read.option(\"encoding\", \"UTF-8\").csv(SparkFiles.get(\"\"), sep=\"\\t\", header=True, inferSchema=True)\n",
    "df.show()"
   ]
  },
  {
   "cell_type": "code",
   "execution_count": null,
   "id": "bbc9cd36",
   "metadata": {},
   "outputs": [],
   "source": [
    "# Create the vine_table. DataFrame\n",
    "vine_df = df.select([\"review_id\",\"star_rating\",\"helpful_votes\",\"total_votes\",\"vine\",\"verified_purchase\"])\n",
    "vine_df.show()"
   ]
  },
  {
   "cell_type": "code",
   "execution_count": null,
   "id": "cfc62c5c",
   "metadata": {},
   "outputs": [],
   "source": [
    "# Retrieve all the rows where the total_votes count is equal to or greater than 20 \n",
    "vine_votes_df=vine_df.filter(\"total_votes>=20\")\n",
    "vine_votes_df.show()"
   ]
  },
  {
   "cell_type": "code",
   "execution_count": null,
   "id": "541eb9db",
   "metadata": {},
   "outputs": [],
   "source": [
    "# Retrieve all the rows where the number of helpful_votes divided by total_votes is equal to or greater than 50%.\n",
    "votes_ratio_df=vine_votes_df.filter(\"helpful_votes/total_votes >= 0.5\")\n",
    "votes_ratio_df.show()"
   ]
  },
  {
   "cell_type": "code",
   "execution_count": null,
   "id": "fe11aa4e",
   "metadata": {},
   "outputs": [],
   "source": [
    "# Retrieves all the rows where a review was written as part of the Vine program (paid)\n",
    "paid_review_df=votes_ratio_df.filter(votes_ratio_df.vine == \"Y\")\n",
    "paid_review_df.show()"
   ]
  },
  {
   "cell_type": "code",
   "execution_count": null,
   "id": "9975130b",
   "metadata": {},
   "outputs": [],
   "source": [
    "# Determine the total number of reviews, the number of 5-star reviews, and the percentage of 5-star reviews for paid program\n",
    "from pyspark.sql.functions import count\n",
    "\n",
    "# Total nb of reviews \n",
    "nb_paid_reviews= paid_review_df.count()\n",
    "print(\"The total number of reviews for paid program is:\")  \n",
    "print(nb_paid_reviews)\n"
   ]
  },
  {
   "cell_type": "code",
   "execution_count": null,
   "id": "255b7971",
   "metadata": {},
   "outputs": [],
   "source": [
    "# Nnumber of 5 stars reviews for paid program\n",
    "nb_5star_paid_reviews = paid_review_df.filter(paid_review_df.star_rating == 5).count()\n",
    "print(\"The total number of 5-star reviews for paid program is:\")  \n",
    "print(nb_5star_paid_reviews)"
   ]
  },
  {
   "cell_type": "code",
   "execution_count": null,
   "id": "b49f8f4d",
   "metadata": {},
   "outputs": [],
   "source": [
    "# Percentage of 5-star reviews for paid program\n",
    "perc_5star_paid = float(nb_5star_paid_reviews)/float(nb_paid_reviews)\n",
    "print(\"The percentage of 5-star reviews for paid program is:\")  \n",
    "print(perc_5star_paid)"
   ]
  },
  {
   "cell_type": "code",
   "execution_count": null,
   "id": "a2b5630e",
   "metadata": {},
   "outputs": [],
   "source": [
    "# Retrieves all the rows where the review was not part of the Vine program (unpaid)\n",
    "unpaid_review_df=votes_ratio_df.filter(votes_ratio_df.vine == \"N\")\n",
    "unpaid_review_df.show()"
   ]
  },
  {
   "cell_type": "code",
   "execution_count": null,
   "id": "0cc07845",
   "metadata": {},
   "outputs": [],
   "source": [
    "# Determine the total number of reviews, the number of 5-star reviews, and the percentage of 5-star reviews for unpaid program\n",
    "# Total nb of reviews \n",
    "nb_unpaid_reviews= unpaid_review_df.count()\n",
    "print(\"The total number of reviews for unpaid program is:\")  \n",
    "print(nb_unpaid_reviews)"
   ]
  },
  {
   "cell_type": "code",
   "execution_count": null,
   "id": "820f0600",
   "metadata": {},
   "outputs": [],
   "source": [
    "# Number of 5 stars reviews for unpaid program \n",
    "nb_5star_unpaid_reviews = unpaid_review_df.filter(unpaid_review_df.star_rating == 5).count()\n",
    "print(\"The total number of 5-star reviews for unpaid program is:\")  \n",
    "print(nb_5star_unpaid_reviews)"
   ]
  },
  {
   "cell_type": "code",
   "execution_count": null,
   "id": "106e1f48",
   "metadata": {},
   "outputs": [],
   "source": [
    "# Percentage of 5-star reviews for unpaid program\n",
    "perc_5star_unpaid = float(nb_5star_unpaid_reviews)/float(nb_unpaid_reviews)\n",
    "print(\"The percentage of 5-star reviews for unpaid program is:\")  \n",
    "print(perc_5star_unpaid)"
   ]
  },
  {
   "cell_type": "code",
   "execution_count": null,
   "id": "6d9c5e96",
   "metadata": {},
   "outputs": [],
   "source": []
  },
  {
   "cell_type": "code",
   "execution_count": null,
   "id": "451b0f3e",
   "metadata": {},
   "outputs": [],
   "source": []
  }
 ],
 "metadata": {
  "kernelspec": {
   "display_name": "PythonData",
   "language": "python",
   "name": "pythondata"
  },
  "language_info": {
   "codemirror_mode": {
    "name": "ipython",
    "version": 3
   },
   "file_extension": ".py",
   "mimetype": "text/x-python",
   "name": "python",
   "nbconvert_exporter": "python",
   "pygments_lexer": "ipython3",
   "version": "3.9.12"
  }
 },
 "nbformat": 4,
 "nbformat_minor": 5
}
